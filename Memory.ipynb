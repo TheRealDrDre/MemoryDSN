{
 "cells": [
  {
   "cell_type": "code",
   "execution_count": 5,
   "id": "e4b4435c-9d33-43cf-8476-7416c6425368",
   "metadata": {},
   "outputs": [],
   "source": [
    "import pyactup as pau\n",
    "import random as rnd"
   ]
  },
  {
   "cell_type": "code",
   "execution_count": 6,
   "id": "2fd62915-bb64-4e03-86dd-4a46dd05beb7",
   "metadata": {},
   "outputs": [],
   "source": [
    "def random_memory_generator(mem_num=None,\n",
    "                            num_chunks=10,\n",
    "                            num_slots=50,\n",
    "                            traumatic=False):\n",
    "    \"\"\"Generates random chunks (slot/attribute pairs)\"\"\"\n",
    "    memories = []\n",
    "    name = []\n",
    "\n",
    "    for i in range(num_chunks):\n",
    "        memory = []\n",
    "        slots = []\n",
    "        name = []\n",
    "        if mem_num is not None:\n",
    "            name = ['memory' + str(mem_num + 1) + \"_\" + str(i + 1)]\n",
    "\n",
    "        for j in range(num_slots):\n",
    "            attributes = ['a', 'b', 'c', 'd', 'e', 'f', 'g']\n",
    "            random_attribute = rnd.choice(attributes)\n",
    "            slots+=['slot' + str(j + 1), str(random_attribute)]\n",
    "\n",
    "        T = ['traumatic', 'no']\n",
    "\n",
    "        if traumatic:\n",
    "            \"\"\" Unique memory is created with traumatic_attributes \"\"\"\n",
    "            for j in range(num_slots):\n",
    "                traumatic_attributes = ['z', 'y', 'x', 'w', 'u', 't', 's']\n",
    "                random_attribute = rnd.choice(traumatic_attributes)\n",
    "                slots+=['slot' + str(j + 1), str(random_attribute)]\n",
    "\n",
    "            #for j in range(num_slots-num_traumatic_attributes):\n",
    "            #    attributes=['a', 'b', 'c', 'd', 'e', 'f', 'g']\n",
    "            #    random_attribute=rnd.choice(attributes)\n",
    "\n",
    "            #    slots+=['slot'+str(j+1+num_traumatic_attributes), str(random_attribute)]\n",
    "\n",
    "            T = ['traumatic', 'yes']\n",
    "\n",
    "        memory += [name + ['isa', 'memory', 'kind', 'memory'] + slots + T]# + V]\n",
    "        memories += memory\n",
    "    return memories\n"
   ]
  },
  {
   "cell_type": "code",
   "execution_count": 10,
   "id": "17485e7a-58e6-4582-978a-70294130b3aa",
   "metadata": {},
   "outputs": [
    {
     "ename": "SyntaxError",
     "evalue": "invalid syntax (<ipython-input-10-999d4a542fa5>, line 4)",
     "output_type": "error",
     "traceback": [
      "\u001b[0;36m  File \u001b[0;32m\"<ipython-input-10-999d4a542fa5>\"\u001b[0;36m, line \u001b[0;32m4\u001b[0m\n\u001b[0;31m    M.learn(m1**)\u001b[0m\n\u001b[0m                ^\u001b[0m\n\u001b[0;31mSyntaxError\u001b[0m\u001b[0;31m:\u001b[0m invalid syntax\n"
     ]
    }
   ],
   "source": [
    "m1=random_memory_generator(num_chunks=1)\n",
    "\n",
    "M = pau.Memory()\n",
    "M.learn(m1)"
   ]
  }
 ],
 "metadata": {
  "kernelspec": {
   "display_name": "Python 3",
   "language": "python",
   "name": "python3"
  },
  "language_info": {
   "codemirror_mode": {
    "name": "ipython",
    "version": 3
   },
   "file_extension": ".py",
   "mimetype": "text/x-python",
   "name": "python",
   "nbconvert_exporter": "python",
   "pygments_lexer": "ipython3",
   "version": "3.7.10"
  }
 },
 "nbformat": 4,
 "nbformat_minor": 5
}
